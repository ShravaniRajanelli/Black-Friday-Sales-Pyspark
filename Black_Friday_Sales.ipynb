{
 "cells": [
  {
   "cell_type": "code",
   "execution_count": 1,
   "metadata": {
    "colab": {
     "base_uri": "https://localhost:8080/"
    },
    "id": "8OADTjZdbw_w",
    "outputId": "40b79c83-567d-42c9-b70a-ad15bee41b67"
   },
   "outputs": [
    {
     "name": "stdout",
     "output_type": "stream",
     "text": [
      "Collecting pyspark\n",
      "  Downloading pyspark-3.5.0.tar.gz (316.9 MB)\n",
      "\u001b[2K     \u001b[90m━━━━━━━━━━━━━━━━━━━━━━━━━━━━━━━━━━━━━━━━\u001b[0m \u001b[32m316.9/316.9 MB\u001b[0m \u001b[31m3.9 MB/s\u001b[0m eta \u001b[36m0:00:00\u001b[0m\n",
      "\u001b[?25h  Preparing metadata (setup.py) ... \u001b[?25l\u001b[?25hdone\n",
      "Requirement already satisfied: py4j==0.10.9.7 in /usr/local/lib/python3.10/dist-packages (from pyspark) (0.10.9.7)\n",
      "Building wheels for collected packages: pyspark\n",
      "  Building wheel for pyspark (setup.py) ... \u001b[?25l\u001b[?25hdone\n",
      "  Created wheel for pyspark: filename=pyspark-3.5.0-py2.py3-none-any.whl size=317425345 sha256=94836e9f39e3fe0202578c9d39e814617a3984d7dc59bc784e1f84aeafc6fc7e\n",
      "  Stored in directory: /root/.cache/pip/wheels/41/4e/10/c2cf2467f71c678cfc8a6b9ac9241e5e44a01940da8fbb17fc\n",
      "Successfully built pyspark\n",
      "Installing collected packages: pyspark\n",
      "Successfully installed pyspark-3.5.0\n"
     ]
    }
   ],
   "source": [
    "!pip install pyspark"
   ]
  },
  {
   "cell_type": "code",
   "execution_count": 2,
   "metadata": {
    "id": "CDoilWAnbCO3"
   },
   "outputs": [],
   "source": [
    "# importing pyspark\n",
    "import pyspark\n",
    "from pyspark.sql import SparkSession\n",
    "# creating a sparksession by default it will do two clusters"
   ]
  },
  {
   "cell_type": "code",
   "execution_count": 3,
   "metadata": {
    "id": "WiKOq1wtbtMK"
   },
   "outputs": [],
   "source": [
    "# Now we will create a cluster\n",
    "spark=SparkSession.builder.appName('BlackFridaySalesReg').getOrCreate()"
   ]
  },
  {
   "cell_type": "code",
   "execution_count": 4,
   "metadata": {
    "id": "a3FaRj3xcWOg"
   },
   "outputs": [],
   "source": [
    "# importing data\n",
    "salesdf=spark.read.csv(\"/content/drive/MyDrive/colab/Black Friday sales_train.csv\",inferSchema=True,header=True)"
   ]
  },
  {
   "cell_type": "code",
   "execution_count": 5,
   "metadata": {
    "colab": {
     "base_uri": "https://localhost:8080/"
    },
    "id": "V38yB5mPcx4M",
    "outputId": "595b6094-9b46-42e4-ba37-d1b958c4bffc"
   },
   "outputs": [
    {
     "name": "stdout",
     "output_type": "stream",
     "text": [
      "+-------+----------+------+----+----------+-------------+--------------------------+--------------+------------------+------------------+------------------+--------+\n",
      "|User_ID|Product_ID|Gender| Age|Occupation|City_Category|Stay_In_Current_City_Years|Marital_Status|Product_Category_1|Product_Category_2|Product_Category_3|Purchase|\n",
      "+-------+----------+------+----+----------+-------------+--------------------------+--------------+------------------+------------------+------------------+--------+\n",
      "|1000001| P00069042|     F|0-17|        10|            A|                         2|             0|                 3|              NULL|              NULL|    8370|\n",
      "|1000001| P00248942|     F|0-17|        10|            A|                         2|             0|                 1|                 6|                14|   15200|\n",
      "|1000001| P00087842|     F|0-17|        10|            A|                         2|             0|                12|              NULL|              NULL|    1422|\n",
      "|1000001| P00085442|     F|0-17|        10|            A|                         2|             0|                12|                14|              NULL|    1057|\n",
      "|1000002| P00285442|     M| 55+|        16|            C|                        4+|             0|                 8|              NULL|              NULL|    7969|\n",
      "+-------+----------+------+----+----------+-------------+--------------------------+--------------+------------------+------------------+------------------+--------+\n",
      "only showing top 5 rows\n",
      "\n"
     ]
    }
   ],
   "source": [
    "salesdf.show(5) # displays top 5 rows"
   ]
  },
  {
   "cell_type": "code",
   "execution_count": 6,
   "metadata": {
    "colab": {
     "base_uri": "https://localhost:8080/"
    },
    "id": "64yKbL-wc7Bx",
    "outputId": "a950c07d-13a8-4781-ff13-abaade4fb3d6"
   },
   "outputs": [
    {
     "name": "stdout",
     "output_type": "stream",
     "text": [
      "+-------+------------------+----------+------+------+-----------------+-------------+--------------------------+-------------------+------------------+------------------+------------------+-----------------+\n",
      "|summary|           User_ID|Product_ID|Gender|   Age|       Occupation|City_Category|Stay_In_Current_City_Years|     Marital_Status|Product_Category_1|Product_Category_2|Product_Category_3|         Purchase|\n",
      "+-------+------------------+----------+------+------+-----------------+-------------+--------------------------+-------------------+------------------+------------------+------------------+-----------------+\n",
      "|  count|            550068|    550068|550068|550068|           550068|       550068|                    550068|             550068|            550068|            376430|            166821|           550068|\n",
      "|   mean|1003028.8424013031|      NULL|  NULL|  NULL|8.076706879876669|         NULL|         1.468494139793958|0.40965298835780306| 5.404270017525106| 9.842329251122386|12.668243206790512|9263.968712959126|\n",
      "| stddev|1727.5915855313747|      NULL|  NULL|  NULL|6.522660487341741|         NULL|        0.9890866807573103| 0.4917701263173315| 3.936211369201365| 5.086589648693497| 4.125337631575274|5023.065393820575|\n",
      "|    min|           1000001| P00000142|     F|  0-17|                0|            A|                         0|                  0|                 1|                 2|                 3|               12|\n",
      "|    max|           1006040|  P0099942|     M|   55+|               20|            C|                        4+|                  1|                20|                18|                18|            23961|\n",
      "+-------+------------------+----------+------+------+-----------------+-------------+--------------------------+-------------------+------------------+------------------+------------------+-----------------+\n",
      "\n"
     ]
    }
   ],
   "source": [
    "salesdf.describe().show() # there are missing values in Product_Category_2 and Product_Category_3"
   ]
  },
  {
   "cell_type": "code",
   "execution_count": 7,
   "metadata": {
    "colab": {
     "base_uri": "https://localhost:8080/"
    },
    "id": "zf0wxt8Jjxdm",
    "outputId": "23488179-84ca-461f-db01-3397a0e5e3d9"
   },
   "outputs": [
    {
     "data": {
      "text/plain": [
       "['User_ID',\n",
       " 'Product_ID',\n",
       " 'Gender',\n",
       " 'Age',\n",
       " 'Occupation',\n",
       " 'City_Category',\n",
       " 'Stay_In_Current_City_Years',\n",
       " 'Marital_Status',\n",
       " 'Product_Category_1',\n",
       " 'Product_Category_2',\n",
       " 'Product_Category_3',\n",
       " 'Purchase']"
      ]
     },
     "execution_count": 7,
     "metadata": {},
     "output_type": "execute_result"
    }
   ],
   "source": [
    "salesdf.columns # gives you the names of variables"
   ]
  },
  {
   "cell_type": "code",
   "execution_count": 8,
   "metadata": {
    "id": "v-C23XbDgJXw"
   },
   "outputs": [],
   "source": [
    "# Imputing Missing Values"
   ]
  },
  {
   "cell_type": "code",
   "execution_count": 9,
   "metadata": {
    "colab": {
     "base_uri": "https://localhost:8080/"
    },
    "id": "mCruKffZc-bU",
    "outputId": "39594a35-04bc-4620-868c-e2015a553dd4"
   },
   "outputs": [
    {
     "name": "stdout",
     "output_type": "stream",
     "text": [
      "+------------------+------+\n",
      "|Product_Category_2| count|\n",
      "+------------------+------+\n",
      "|                12|  5528|\n",
      "|              NULL|173638|\n",
      "|                13| 10531|\n",
      "|                 6| 16466|\n",
      "|                16| 43255|\n",
      "|                 3|  2884|\n",
      "|                 5| 26235|\n",
      "|                15| 37855|\n",
      "|                 9|  5693|\n",
      "|                17| 13320|\n",
      "|                 4| 25677|\n",
      "|                 8| 64088|\n",
      "|                 7|   626|\n",
      "|                10|  3043|\n",
      "|                11| 14134|\n",
      "|                14| 55108|\n",
      "|                 2| 49217|\n",
      "|                18|  2770|\n",
      "+------------------+------+\n",
      "\n"
     ]
    }
   ],
   "source": [
    "salesdf.groupBy(\"Product_Category_2\").count().show() # finding the value counts of the variable"
   ]
  },
  {
   "cell_type": "code",
   "execution_count": 10,
   "metadata": {
    "id": "bZEJUrTqeRH8"
   },
   "outputs": [],
   "source": [
    "# we can clearly see the presence of null values is more that is 17638 no of null values are there.we need to impute\n",
    "# them with a Numeric Missing Code - 999\n",
    "salesdf=salesdf.na.fill(value=999,subset=['Product_Category_2'])"
   ]
  },
  {
   "cell_type": "code",
   "execution_count": 11,
   "metadata": {
    "colab": {
     "base_uri": "https://localhost:8080/"
    },
    "id": "PXh7MvT8fMB7",
    "outputId": "08aacc2e-093c-4ba5-fda7-294f46a83119"
   },
   "outputs": [
    {
     "name": "stdout",
     "output_type": "stream",
     "text": [
      "+------------------+------+\n",
      "|Product_Category_3| count|\n",
      "+------------------+------+\n",
      "|                12|  9246|\n",
      "|              NULL|383247|\n",
      "|                13|  5459|\n",
      "|                16| 32636|\n",
      "|                 6|  4890|\n",
      "|                 3|   613|\n",
      "|                 5| 16658|\n",
      "|                15| 28013|\n",
      "|                17| 16702|\n",
      "|                 9| 11579|\n",
      "|                 4|  1875|\n",
      "|                 8| 12562|\n",
      "|                10|  1726|\n",
      "|                11|  1805|\n",
      "|                14| 18428|\n",
      "|                18|  4629|\n",
      "+------------------+------+\n",
      "\n"
     ]
    }
   ],
   "source": [
    "salesdf.groupBy(\"Product_Category_3\").count().show() # finding the value counts of the variable"
   ]
  },
  {
   "cell_type": "code",
   "execution_count": 12,
   "metadata": {
    "id": "eepXaQD4fWC_"
   },
   "outputs": [],
   "source": [
    "# we can clearly see the presence of null values is more that is 383247 no of null values are there.we need to impute\n",
    "# them with a Numeric Missing Code - 999\n",
    "salesdf=salesdf.na.fill(value=999,subset=['Product_Category_3'])"
   ]
  },
  {
   "cell_type": "code",
   "execution_count": 13,
   "metadata": {
    "colab": {
     "base_uri": "https://localhost:8080/"
    },
    "id": "OYBz88CRfdKQ",
    "outputId": "e070cbe7-7a6f-4601-a238-eb6ebd975b7a"
   },
   "outputs": [
    {
     "name": "stdout",
     "output_type": "stream",
     "text": [
      "root\n",
      " |-- User_ID: integer (nullable = true)\n",
      " |-- Product_ID: string (nullable = true)\n",
      " |-- Gender: string (nullable = true)\n",
      " |-- Age: string (nullable = true)\n",
      " |-- Occupation: integer (nullable = true)\n",
      " |-- City_Category: string (nullable = true)\n",
      " |-- Stay_In_Current_City_Years: string (nullable = true)\n",
      " |-- Marital_Status: integer (nullable = true)\n",
      " |-- Product_Category_1: integer (nullable = true)\n",
      " |-- Product_Category_2: integer (nullable = true)\n",
      " |-- Product_Category_3: integer (nullable = true)\n",
      " |-- Purchase: integer (nullable = true)\n",
      "\n"
     ]
    }
   ],
   "source": [
    "salesdf.printSchema() # printSchema gives the variable types"
   ]
  },
  {
   "cell_type": "code",
   "execution_count": 14,
   "metadata": {
    "colab": {
     "base_uri": "https://localhost:8080/"
    },
    "id": "Twxm7cdsf0oB",
    "outputId": "26fe7c38-4db7-4cbe-b2f3-fd5427357d8e"
   },
   "outputs": [
    {
     "name": "stdout",
     "output_type": "stream",
     "text": [
      "+------+------+\n",
      "|Gender| count|\n",
      "+------+------+\n",
      "|     F|135809|\n",
      "|     M|414259|\n",
      "+------+------+\n",
      "\n"
     ]
    }
   ],
   "source": [
    "salesdf.groupBy(\"Gender\").count().show() # gives the no of males and females"
   ]
  },
  {
   "cell_type": "code",
   "execution_count": 15,
   "metadata": {
    "colab": {
     "base_uri": "https://localhost:8080/"
    },
    "id": "zpYOG4nNgZh6",
    "outputId": "0134acb4-bb9d-4216-ff95-a9d6fb2c6594"
   },
   "outputs": [
    {
     "name": "stdout",
     "output_type": "stream",
     "text": [
      "+-----+------+\n",
      "|  Age| count|\n",
      "+-----+------+\n",
      "|18-25| 99660|\n",
      "|26-35|219587|\n",
      "| 0-17| 15102|\n",
      "|46-50| 45701|\n",
      "|51-55| 38501|\n",
      "|36-45|110013|\n",
      "|  55+| 21504|\n",
      "+-----+------+\n",
      "\n"
     ]
    }
   ],
   "source": [
    "# how many age categories there?\n",
    "salesdf.groupBy(\"Age\").count().show()"
   ]
  },
  {
   "cell_type": "code",
   "execution_count": 16,
   "metadata": {
    "colab": {
     "base_uri": "https://localhost:8080/"
    },
    "id": "motj_M3Pgr0L",
    "outputId": "a1064f74-af02-4cea-d876-b2e65d38285a"
   },
   "outputs": [
    {
     "name": "stdout",
     "output_type": "stream",
     "text": [
      "+----------+-----+-----+------+-----+-----+-----+-----+\n",
      "|Gender_Age| 0-17|18-25| 26-35|36-45|46-50|51-55|  55+|\n",
      "+----------+-----+-----+------+-----+-----+-----+-----+\n",
      "|         F| 5083|24628| 50752|27170|13199| 9894| 5083|\n",
      "|         M|10019|75032|168835|82843|32502|28607|16421|\n",
      "+----------+-----+-----+------+-----+-----+-----+-----+\n",
      "\n"
     ]
    }
   ],
   "source": [
    "# Cross Tabulation of Gender nad Age\n",
    "salesdf.crosstab('Gender','Age').show()"
   ]
  },
  {
   "cell_type": "code",
   "execution_count": 17,
   "metadata": {
    "id": "71ObKMn7j9Xy"
   },
   "outputs": [],
   "source": [
    "# Exploratory Data Analysis"
   ]
  },
  {
   "cell_type": "code",
   "execution_count": 18,
   "metadata": {
    "colab": {
     "base_uri": "https://localhost:8080/"
    },
    "id": "HCw7Pyu4hR5j",
    "outputId": "925e8cdf-6f98-40be-cf55-f56ddc3b0c21"
   },
   "outputs": [
    {
     "name": "stdout",
     "output_type": "stream",
     "text": [
      "+-------+-----------------+\n",
      "|summary|         Purchase|\n",
      "+-------+-----------------+\n",
      "|  count|           550068|\n",
      "|   mean|9263.968712959126|\n",
      "| stddev|5023.065393820575|\n",
      "|    min|               12|\n",
      "|    max|            23961|\n",
      "+-------+-----------------+\n",
      "\n"
     ]
    }
   ],
   "source": [
    "salesdf.select('Purchase').describe().show() # gives the statistical calculations of the variable"
   ]
  },
  {
   "cell_type": "code",
   "execution_count": 19,
   "metadata": {
    "id": "YDpZskDXhli5"
   },
   "outputs": [],
   "source": [
    "from pyspark.sql.functions import skewness,kurtosis # importing skewness,kurtosis"
   ]
  },
  {
   "cell_type": "code",
   "execution_count": 20,
   "metadata": {
    "colab": {
     "base_uri": "https://localhost:8080/"
    },
    "id": "zvuq4knAh15E",
    "outputId": "e3d7b172-2fe9-472d-9a81-b16760da0dd0"
   },
   "outputs": [
    {
     "name": "stdout",
     "output_type": "stream",
     "text": [
      "+------------------+-------------------+\n",
      "|skewness(Purchase)| kurtosis(Purchase)|\n",
      "+------------------+-------------------+\n",
      "|0.6001383671643392|-0.3383853975360327|\n",
      "+------------------+-------------------+\n",
      "\n"
     ]
    }
   ],
   "source": [
    "salesdf.select(skewness('Purchase'),kurtosis('Purchase')).show() # calculating skewness,kurtosis of the variable#"
   ]
  },
  {
   "cell_type": "code",
   "execution_count": 21,
   "metadata": {
    "colab": {
     "base_uri": "https://localhost:8080/"
    },
    "id": "mCMGSiL9h9Cy",
    "outputId": "71213bd2-5837-41a8-c9d3-12644f65b62b"
   },
   "outputs": [
    {
     "name": "stdout",
     "output_type": "stream",
     "text": [
      "+------+-----------------+\n",
      "|Gender|    avg(Purchase)|\n",
      "+------+-----------------+\n",
      "|     F|8734.565765155476|\n",
      "|     M|9437.526040472265|\n",
      "+------+-----------------+\n",
      "\n"
     ]
    }
   ],
   "source": [
    "# Average Purchase by Gender\n",
    "salesdf.groupBy('Gender').mean('Purchase').show()"
   ]
  },
  {
   "cell_type": "code",
   "execution_count": 22,
   "metadata": {
    "colab": {
     "base_uri": "https://localhost:8080/"
    },
    "id": "hdPnTWYBikzP",
    "outputId": "a099e4ca-889a-4fea-a234-d7f1e2a0dc5e"
   },
   "outputs": [
    {
     "name": "stdout",
     "output_type": "stream",
     "text": [
      "+-----+-----------------+\n",
      "|  Age|    avg(Purchase)|\n",
      "+-----+-----------------+\n",
      "|18-25|9169.663606261289|\n",
      "|26-35|9252.690632869888|\n",
      "| 0-17|8933.464640444974|\n",
      "|46-50|9208.625697468327|\n",
      "|51-55|9534.808030960236|\n",
      "|36-45|9331.350694917874|\n",
      "|  55+|9336.280459449405|\n",
      "+-----+-----------------+\n",
      "\n"
     ]
    }
   ],
   "source": [
    "# Average Purchase by Age\n",
    "salesdf.groupBy('Age').mean('Purchase').show()"
   ]
  },
  {
   "cell_type": "code",
   "execution_count": 23,
   "metadata": {
    "id": "DpXORHiwi9IZ"
   },
   "outputs": [],
   "source": [
    "# Encoding the object columns"
   ]
  },
  {
   "cell_type": "code",
   "execution_count": 24,
   "metadata": {
    "id": "NmJwg7MTbdkg"
   },
   "outputs": [],
   "source": [
    "from pyspark.ml.feature import StringIndexer\n",
    "from pyspark.ml import Pipeline\n",
    "# Importing stringindexer and pipeline"
   ]
  },
  {
   "cell_type": "code",
   "execution_count": 25,
   "metadata": {
    "id": "_ICw6yAmbyoM"
   },
   "outputs": [],
   "source": [
    "indexer=[StringIndexer(inputCol=column,outputCol=column+'dummy').fit(salesdf)for column in list(set(salesdf.columns)-set(['Purchase','User_ID','Product_ID']))]"
   ]
  },
  {
   "cell_type": "code",
   "execution_count": 26,
   "metadata": {
    "id": "RupH0pYZdHqg"
   },
   "outputs": [],
   "source": [
    "pipeline=Pipeline(stages=indexer)"
   ]
  },
  {
   "cell_type": "code",
   "execution_count": 27,
   "metadata": {
    "id": "L-O82rPgdYyf"
   },
   "outputs": [],
   "source": [
    "sales=pipeline.fit(salesdf).transform(salesdf)"
   ]
  },
  {
   "cell_type": "code",
   "execution_count": 28,
   "metadata": {
    "colab": {
     "base_uri": "https://localhost:8080/"
    },
    "id": "T1Py2Wkydn6d",
    "outputId": "b7ed284a-e3d2-41ad-e519-5d6e5bc8129f"
   },
   "outputs": [
    {
     "name": "stdout",
     "output_type": "stream",
     "text": [
      "+-------+----------+------+----+----------+-------------+--------------------------+--------------+------------------+------------------+------------------+--------+-----------+--------+------------------+-------------------------------+-------------------+-----------------------+---------------+-----------------------+-----------------------+\n",
      "|User_ID|Product_ID|Gender| Age|Occupation|City_Category|Stay_In_Current_City_Years|Marital_Status|Product_Category_1|Product_Category_2|Product_Category_3|Purchase|Genderdummy|Agedummy|City_Categorydummy|Stay_In_Current_City_Yearsdummy|Marital_Statusdummy|Product_Category_3dummy|Occupationdummy|Product_Category_2dummy|Product_Category_1dummy|\n",
      "+-------+----------+------+----+----------+-------------+--------------------------+--------------+------------------+------------------+------------------+--------+-----------+--------+------------------+-------------------------------+-------------------+-----------------------+---------------+-----------------------+-----------------------+\n",
      "|1000001| P00069042|     F|0-17|        10|            A|                         2|             0|                 3|               999|               999|    8370|        1.0|     6.0|               2.0|                            1.0|                0.0|                    0.0|           12.0|                    0.0|                    6.0|\n",
      "|1000001| P00248942|     F|0-17|        10|            A|                         2|             0|                 1|                 6|                14|   15200|        1.0|     6.0|               2.0|                            1.0|                0.0|                    3.0|           12.0|                    8.0|                    1.0|\n",
      "|1000001| P00087842|     F|0-17|        10|            A|                         2|             0|                12|               999|               999|    1422|        1.0|     6.0|               2.0|                            1.0|                0.0|                    0.0|           12.0|                    0.0|                   12.0|\n",
      "|1000001| P00085442|     F|0-17|        10|            A|                         2|             0|                12|                14|               999|    1057|        1.0|     6.0|               2.0|                            1.0|                0.0|                    0.0|           12.0|                    2.0|                   12.0|\n",
      "|1000002| P00285442|     M| 55+|        16|            C|                        4+|             0|                 8|               999|               999|    7969|        0.0|     5.0|               1.0|                            3.0|                0.0|                    0.0|            9.0|                    0.0|                    2.0|\n",
      "+-------+----------+------+----+----------+-------------+--------------------------+--------------+------------------+------------------+------------------+--------+-----------+--------+------------------+-------------------------------+-------------------+-----------------------+---------------+-----------------------+-----------------------+\n",
      "only showing top 5 rows\n",
      "\n"
     ]
    }
   ],
   "source": [
    "sales.show(5)"
   ]
  },
  {
   "cell_type": "code",
   "execution_count": 29,
   "metadata": {
    "colab": {
     "base_uri": "https://localhost:8080/"
    },
    "id": "n738xVg6dqS2",
    "outputId": "d96015e1-72b0-4426-9972-064be81e11ba"
   },
   "outputs": [
    {
     "data": {
      "text/plain": [
       "['User_ID',\n",
       " 'Product_ID',\n",
       " 'Gender',\n",
       " 'Age',\n",
       " 'Occupation',\n",
       " 'City_Category',\n",
       " 'Stay_In_Current_City_Years',\n",
       " 'Marital_Status',\n",
       " 'Product_Category_1',\n",
       " 'Product_Category_2',\n",
       " 'Product_Category_3',\n",
       " 'Purchase',\n",
       " 'Genderdummy',\n",
       " 'Agedummy',\n",
       " 'City_Categorydummy',\n",
       " 'Stay_In_Current_City_Yearsdummy',\n",
       " 'Marital_Statusdummy',\n",
       " 'Product_Category_3dummy',\n",
       " 'Occupationdummy',\n",
       " 'Product_Category_2dummy',\n",
       " 'Product_Category_1dummy']"
      ]
     },
     "execution_count": 29,
     "metadata": {},
     "output_type": "execute_result"
    }
   ],
   "source": [
    "sales.columns"
   ]
  },
  {
   "cell_type": "code",
   "execution_count": 30,
   "metadata": {
    "id": "6HoaSKSVd1P1"
   },
   "outputs": [],
   "source": [
    "# droping columns\n",
    "colsdrop=['User_ID','Product_ID', 'Gender', 'Age', 'Occupation', 'City_Category', 'Stay_In_Current_City_Years', 'Marital_Status', 'Product_Category_1',\n",
    " 'Product_Category_2', 'Product_Category_3']"
   ]
  },
  {
   "cell_type": "code",
   "execution_count": 31,
   "metadata": {
    "id": "NOdbsAVDeFEW"
   },
   "outputs": [],
   "source": [
    "sales=sales.drop(*colsdrop)"
   ]
  },
  {
   "cell_type": "code",
   "execution_count": 32,
   "metadata": {
    "colab": {
     "base_uri": "https://localhost:8080/"
    },
    "id": "TrFZVaCNePDT",
    "outputId": "d43bd3f4-cb90-4b2d-b918-9fb86d46a335"
   },
   "outputs": [
    {
     "name": "stdout",
     "output_type": "stream",
     "text": [
      "+--------+-----------+--------+------------------+-------------------------------+-------------------+-----------------------+---------------+-----------------------+-----------------------+\n",
      "|Purchase|Genderdummy|Agedummy|City_Categorydummy|Stay_In_Current_City_Yearsdummy|Marital_Statusdummy|Product_Category_3dummy|Occupationdummy|Product_Category_2dummy|Product_Category_1dummy|\n",
      "+--------+-----------+--------+------------------+-------------------------------+-------------------+-----------------------+---------------+-----------------------+-----------------------+\n",
      "|    8370|        1.0|     6.0|               2.0|                            1.0|                0.0|                    0.0|           12.0|                    0.0|                    6.0|\n",
      "|   15200|        1.0|     6.0|               2.0|                            1.0|                0.0|                    3.0|           12.0|                    8.0|                    1.0|\n",
      "|    1422|        1.0|     6.0|               2.0|                            1.0|                0.0|                    0.0|           12.0|                    0.0|                   12.0|\n",
      "|    1057|        1.0|     6.0|               2.0|                            1.0|                0.0|                    0.0|           12.0|                    2.0|                   12.0|\n",
      "|    7969|        0.0|     5.0|               1.0|                            3.0|                0.0|                    0.0|            9.0|                    0.0|                    2.0|\n",
      "+--------+-----------+--------+------------------+-------------------------------+-------------------+-----------------------+---------------+-----------------------+-----------------------+\n",
      "only showing top 5 rows\n",
      "\n"
     ]
    }
   ],
   "source": [
    "sales.show(5)"
   ]
  },
  {
   "cell_type": "code",
   "execution_count": 33,
   "metadata": {
    "id": "OinwAUO4eSMX"
   },
   "outputs": [],
   "source": [
    " from pyspark.ml.feature import RFormula"
   ]
  },
  {
   "cell_type": "code",
   "execution_count": 34,
   "metadata": {
    "id": "Jj8NMJn_ebnN"
   },
   "outputs": [],
   "source": [
    "formula=RFormula(formula='Purchase~.',featuresCol='features',labelCol='label')"
   ]
  },
  {
   "cell_type": "code",
   "execution_count": 35,
   "metadata": {
    "id": "62ntG51Wed5d"
   },
   "outputs": [],
   "source": [
    "sales=formula.fit(sales).transform(sales)"
   ]
  },
  {
   "cell_type": "code",
   "execution_count": 36,
   "metadata": {
    "colab": {
     "base_uri": "https://localhost:8080/"
    },
    "id": "pDhXjuyYemF2",
    "outputId": "e1190e16-0cca-45b2-d1d3-130f710693ec"
   },
   "outputs": [
    {
     "name": "stdout",
     "output_type": "stream",
     "text": [
      "+--------------------+-------+\n",
      "|            features|  label|\n",
      "+--------------------+-------+\n",
      "|[1.0,6.0,2.0,1.0,...| 8370.0|\n",
      "|[1.0,6.0,2.0,1.0,...|15200.0|\n",
      "|[1.0,6.0,2.0,1.0,...| 1422.0|\n",
      "|[1.0,6.0,2.0,1.0,...| 1057.0|\n",
      "|[0.0,5.0,1.0,3.0,...| 7969.0|\n",
      "+--------------------+-------+\n",
      "only showing top 5 rows\n",
      "\n"
     ]
    }
   ],
   "source": [
    "sales.select('features','label').show(5)"
   ]
  },
  {
   "cell_type": "code",
   "execution_count": 37,
   "metadata": {
    "id": "veGrU12CeuEw"
   },
   "outputs": [],
   "source": [
    "# building models"
   ]
  },
  {
   "cell_type": "code",
   "execution_count": 38,
   "metadata": {
    "id": "S1NMzejKe2g0"
   },
   "outputs": [],
   "source": [
    "from pyspark.ml.regression import LinearRegression\n",
    "from pyspark.ml.evaluation import RegressionEvaluator"
   ]
  },
  {
   "cell_type": "code",
   "execution_count": 39,
   "metadata": {
    "id": "YrrUpyxhe5SV"
   },
   "outputs": [],
   "source": [
    "reg=LinearRegression()"
   ]
  },
  {
   "cell_type": "code",
   "execution_count": 40,
   "metadata": {
    "id": "6M4kUd62e7Tu"
   },
   "outputs": [],
   "source": [
    "regmodel=reg.fit(sales)"
   ]
  },
  {
   "cell_type": "code",
   "execution_count": 41,
   "metadata": {
    "colab": {
     "base_uri": "https://localhost:8080/"
    },
    "id": "0OZh1IDPe-IB",
    "outputId": "c702c1d6-8949-4fbe-aff0-8c25e2da9353"
   },
   "outputs": [
    {
     "data": {
      "text/plain": [
       "0.06356300117930469"
      ]
     },
     "execution_count": 41,
     "metadata": {},
     "output_type": "execute_result"
    }
   ],
   "source": [
    "regmodel.summary.r2adj # adjusted r square"
   ]
  },
  {
   "cell_type": "code",
   "execution_count": 42,
   "metadata": {
    "colab": {
     "base_uri": "https://localhost:8080/"
    },
    "id": "HPjRkE2bfB7v",
    "outputId": "3e46ae54-2f10-41fc-facc-d4e6eb9bd3a1"
   },
   "outputs": [
    {
     "data": {
      "text/plain": [
       "4860.759869813397"
      ]
     },
     "execution_count": 42,
     "metadata": {},
     "output_type": "execute_result"
    }
   ],
   "source": [
    "regmodel.summary.rootMeanSquaredError # root mean square error"
   ]
  },
  {
   "cell_type": "code",
   "execution_count": 43,
   "metadata": {
    "id": "7eaEBSkyfIIi"
   },
   "outputs": [],
   "source": [
    "rsquare=RegressionEvaluator(metricName='r2')\n",
    "rmse=RegressionEvaluator(metricName='rmse')"
   ]
  },
  {
   "cell_type": "code",
   "execution_count": 43,
   "metadata": {
    "id": "ezNitf9kfQYp"
   },
   "outputs": [],
   "source": []
  },
  {
   "cell_type": "code",
   "execution_count": 44,
   "metadata": {
    "id": "bF4LBQI-fRv5"
   },
   "outputs": [],
   "source": [
    "# Decision Tree"
   ]
  },
  {
   "cell_type": "code",
   "execution_count": 45,
   "metadata": {
    "id": "NRt7EFNIfT7p"
   },
   "outputs": [],
   "source": [
    "from pyspark.ml.regression import DecisionTreeRegressor"
   ]
  },
  {
   "cell_type": "code",
   "execution_count": 46,
   "metadata": {
    "id": "x0uHqJcZfV1L"
   },
   "outputs": [],
   "source": [
    "tree=DecisionTreeRegressor()"
   ]
  },
  {
   "cell_type": "code",
   "execution_count": 47,
   "metadata": {
    "id": "jAkRx40AfXjV"
   },
   "outputs": [],
   "source": [
    "treemodel=tree.fit(sales)"
   ]
  },
  {
   "cell_type": "code",
   "execution_count": 48,
   "metadata": {
    "id": "YoWi7SFUfaQ6"
   },
   "outputs": [],
   "source": [
    "treepredict=treemodel.transform(sales)"
   ]
  },
  {
   "cell_type": "code",
   "execution_count": 49,
   "metadata": {
    "colab": {
     "base_uri": "https://localhost:8080/"
    },
    "id": "e2ngkb5Yfdi4",
    "outputId": "29df0d71-c046-47af-ca8b-27c41691428d"
   },
   "outputs": [
    {
     "data": {
      "text/plain": [
       "0.643827508033008"
      ]
     },
     "execution_count": 49,
     "metadata": {},
     "output_type": "execute_result"
    }
   ],
   "source": [
    "rsquare.evaluate(treepredict)"
   ]
  },
  {
   "cell_type": "code",
   "execution_count": 50,
   "metadata": {
    "colab": {
     "base_uri": "https://localhost:8080/"
    },
    "id": "VrRlHF_Uff0t",
    "outputId": "143930b6-ec7c-48bc-8a6a-7a0e1d69d9c7"
   },
   "outputs": [
    {
     "data": {
      "text/plain": [
       "2997.772179128243"
      ]
     },
     "execution_count": 50,
     "metadata": {},
     "output_type": "execute_result"
    }
   ],
   "source": [
    "rmse.evaluate(treepredict)"
   ]
  },
  {
   "cell_type": "code",
   "execution_count": 50,
   "metadata": {
    "id": "PMxKuh-lfi84"
   },
   "outputs": [],
   "source": []
  },
  {
   "cell_type": "code",
   "execution_count": 51,
   "metadata": {
    "id": "gu3jVORcflQJ"
   },
   "outputs": [],
   "source": [
    "# Random Forest"
   ]
  },
  {
   "cell_type": "code",
   "execution_count": 52,
   "metadata": {
    "id": "xyxcucQ4fndu"
   },
   "outputs": [],
   "source": [
    "from pyspark.ml.regression import RandomForestRegressor"
   ]
  },
  {
   "cell_type": "code",
   "execution_count": 53,
   "metadata": {
    "id": "l2nL1nwsfpZJ"
   },
   "outputs": [],
   "source": [
    "rf=RandomForestRegressor(numTrees=500)"
   ]
  },
  {
   "cell_type": "code",
   "execution_count": 54,
   "metadata": {
    "id": "-5Ur5HuofrPF"
   },
   "outputs": [],
   "source": [
    "rfmodel=rf.fit(sales)"
   ]
  },
  {
   "cell_type": "code",
   "execution_count": 55,
   "metadata": {
    "id": "9j59qA66ft_E"
   },
   "outputs": [],
   "source": [
    "rfpredict=rfmodel.transform(sales)"
   ]
  },
  {
   "cell_type": "code",
   "execution_count": 56,
   "metadata": {
    "colab": {
     "base_uri": "https://localhost:8080/"
    },
    "id": "Y0gVjL8ufwyL",
    "outputId": "e46f2bda-024e-421d-ad91-781670530633"
   },
   "outputs": [
    {
     "data": {
      "text/plain": [
       "0.6157736747503728"
      ]
     },
     "execution_count": 56,
     "metadata": {},
     "output_type": "execute_result"
    }
   ],
   "source": [
    "rsquare.evaluate(rfpredict)"
   ]
  },
  {
   "cell_type": "code",
   "execution_count": 57,
   "metadata": {
    "colab": {
     "base_uri": "https://localhost:8080/"
    },
    "id": "t_smoiU_fy8k",
    "outputId": "3690cff4-cad9-4691-f324-b3b60eec01cb"
   },
   "outputs": [
    {
     "data": {
      "text/plain": [
       "3113.594102533163"
      ]
     },
     "execution_count": 57,
     "metadata": {},
     "output_type": "execute_result"
    }
   ],
   "source": [
    "rmse.evaluate(rfpredict)"
   ]
  },
  {
   "cell_type": "code",
   "execution_count": 57,
   "metadata": {
    "id": "Jbb-gKLJf02l"
   },
   "outputs": [],
   "source": []
  },
  {
   "cell_type": "code",
   "execution_count": 58,
   "metadata": {
    "id": "BUnygBTxf1o4"
   },
   "outputs": [],
   "source": [
    "# Gradient boosting"
   ]
  },
  {
   "cell_type": "code",
   "execution_count": 59,
   "metadata": {
    "id": "EHksy5QBf5Gx"
   },
   "outputs": [],
   "source": [
    "from pyspark.ml.regression import GBTRegressor"
   ]
  },
  {
   "cell_type": "code",
   "execution_count": 60,
   "metadata": {
    "id": "VMNjixVAf76T"
   },
   "outputs": [],
   "source": [
    "gbm=GBTRegressor()"
   ]
  },
  {
   "cell_type": "code",
   "execution_count": 61,
   "metadata": {
    "id": "J7QGDCCyf-XO"
   },
   "outputs": [],
   "source": [
    "gbmmodel=gbm.fit(sales)"
   ]
  },
  {
   "cell_type": "code",
   "execution_count": 62,
   "metadata": {
    "id": "t-3yG8ffgBgx"
   },
   "outputs": [],
   "source": [
    "gbmpredict=gbmmodel.transform(sales)"
   ]
  },
  {
   "cell_type": "code",
   "execution_count": 63,
   "metadata": {
    "colab": {
     "base_uri": "https://localhost:8080/"
    },
    "id": "qJ5nG8c_gEI5",
    "outputId": "0f4cb966-0220-46a1-f2a8-f30d6c61909f"
   },
   "outputs": [
    {
     "data": {
      "text/plain": [
       "0.6599964752046416"
      ]
     },
     "execution_count": 63,
     "metadata": {},
     "output_type": "execute_result"
    }
   ],
   "source": [
    "rsquare.evaluate(gbmpredict)"
   ]
  },
  {
   "cell_type": "code",
   "execution_count": 64,
   "metadata": {
    "colab": {
     "base_uri": "https://localhost:8080/"
    },
    "id": "ZnlWjRl_gF7g",
    "outputId": "3edbf3b5-8116-4429-cc26-7e28a2544494"
   },
   "outputs": [
    {
     "data": {
      "text/plain": [
       "2928.9377873687395"
      ]
     },
     "execution_count": 64,
     "metadata": {},
     "output_type": "execute_result"
    }
   ],
   "source": [
    "rmse.evaluate(gbmpredict)"
   ]
  },
  {
   "cell_type": "markdown",
   "metadata": {
    "id": "05i9CD_fgIoa"
   },
   "source": [
    "| Model Name | Adjusted RSquare | RMSE|\n",
    "|--|--|--|\n",
    "| Linear Regression | 0.06356300117930469 | 4860.759869813397 |\n",
    "| Decision Tree |0.643827508033008|2997.772179128243 |\n",
    "| Random Forest |0.6157736747503728|3113.594102533163 |\n",
    "| **Gradient Boosting Machine** | **0.6599964752046416** | **2928.9377873687395**|"
   ]
  },
  {
   "cell_type": "markdown",
   "metadata": {},
   "source": [
    " From Adjusted RSquare and RMSE we can conclude that Gradient Boosting Machine is best model with \n",
    " 0.6599964752046416 Adjusted RSquare and 2928.9377873687395 RMSE"
   ]
  },
  {
   "cell_type": "code",
   "execution_count": null,
   "metadata": {},
   "outputs": [],
   "source": []
  }
 ],
 "metadata": {
  "colab": {
   "provenance": []
  },
  "kernelspec": {
   "display_name": "Python 3 (ipykernel)",
   "language": "python",
   "name": "python3"
  },
  "language_info": {
   "codemirror_mode": {
    "name": "ipython",
    "version": 3
   },
   "file_extension": ".py",
   "mimetype": "text/x-python",
   "name": "python",
   "nbconvert_exporter": "python",
   "pygments_lexer": "ipython3",
   "version": "3.11.5"
  }
 },
 "nbformat": 4,
 "nbformat_minor": 1
}
